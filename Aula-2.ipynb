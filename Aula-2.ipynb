{
 "cells": [
  {
   "cell_type": "markdown",
   "metadata": {},
   "source": [
    "# Aula 2 - Introdução ao Python"
   ]
  },
  {
   "cell_type": "markdown",
   "metadata": {},
   "source": [
    "## Sobre o Python\n",
    "* Linguagem de programação de alto nível, propósito geral, interpretada, imperativa, orientada a objetos, funcional, com tipagem forte e dinâmica;\n",
    "* Criada por Guido van Rossum em 1991;\n",
    "* Modelo de desenvolvimento open-source;\n",
    "* Gerenciada pela organização sem fins lucrativos Python Software Foundation;\n",
    "* Altamente utilizada para scripts, machine learning, processamento de imagens, web, computação científica, dentre outros;\n",
    "* Usada na Wikipedia, Google, Yahoo!, NASA, Facebook, Amazon, Instagram, Spotify, Reddit etc.\n",
    "\n",
    "A filosofia do Python é enfatizar a importância do esforço do programador sobre o esforço computacional, dando ênfase à legibilidade do código sobre a velocidade.\n",
    "\n",
    "Foi criada com base na linguagem ABC, possuindo sintaxe influencidada pelo C, além de compreensão de listas, funções anônimas e função map inspiradas do Haskell. Os iteradores são baseados na Icon, tratamento de exceção e módulos da Modula-3 e expressões regulares de Perl."
   ]
  },
  {
   "cell_type": "markdown",
   "metadata": {},
   "source": [
    "## Declarando variáveis\n",
    "\n",
    "Para declarar variáveis no Python, basta utilizar a sintaxe\n",
    "```python\n",
    "nome = valor```\n",
    "\n",
    "Alguns exemplos:"
   ]
  },
  {
   "cell_type": "code",
   "execution_count": null,
   "metadata": {},
   "outputs": [],
   "source": [
    "# inteiros:\n",
    "idade = 21\n",
    "\n",
    "# pontos flutuantes:\n",
    "altura = 1.65\n",
    "\n",
    "# strings:\n",
    "nome = \"maria antonieta\"\n",
    "\n",
    "# booleanos:\n",
    "gosta_de_python = True"
   ]
  },
  {
   "cell_type": "markdown",
   "metadata": {},
   "source": [
    "## Funções úteis\n",
    "\n",
    "Dentre algumas funções, podemos destacar:\n",
    "```python\n",
    "input(\"mensagem opcional de entrada\") # lê do stdin\n",
    "print(valor) # escreve no stdout\n",
    "int(minha_string) # transforma a string em inteiro\n",
    "float(minha_string) # transforma a string em ponto flutuante```"
   ]
  },
  {
   "cell_type": "code",
   "execution_count": null,
   "metadata": {},
   "outputs": [],
   "source": [
    "# Printando valores:\n",
    "print(idade)\n",
    "print(altura)\n",
    "print(nome)\n",
    "print(gosta_de_python)\n",
    "\n",
    "# Lendo valores:\n",
    "meu_nome = input(\"Entre com seu nome:\")\n",
    "# '+' concatena duas strings:\n",
    "print(\"Olá \" + meu_nome)\n",
    "\n",
    "# podemos usar 'aspas simples' ou \"aspas duplas\" para strings:\n",
    "minha_idade = int(input('Entre com sua idade:'))\n",
    "# Também podemos usar o próprio print para concatenar:\n",
    "print('Sua idade é', minha_idade)"
   ]
  },
  {
   "cell_type": "markdown",
   "metadata": {},
   "source": [
    "Caso um cast não seja válido, o Python lançará um `ValueException`:\n",
    "![ValueException](int_exception.png)"
   ]
  },
  {
   "cell_type": "markdown",
   "metadata": {},
   "source": [
    "## Operadores aritméticos:\n",
    "\n",
    "O Python oferece vários operadores que estamos familiarizados, tais como:\n",
    "```python\n",
    "soma = x + y\n",
    "subtracao = x - y\n",
    "multiplicacao = x * y\n",
    "divisao = x / y\n",
    "divisao_truncada = x // y # arredonda para baixo\n",
    "exponenciacao = x ** y # x elevado a y\n",
    "resto_divisao = x % y```"
   ]
  },
  {
   "cell_type": "code",
   "execution_count": null,
   "metadata": {},
   "outputs": [],
   "source": [
    "x = float(input(\"Entre com x:\"))\n",
    "y = float(input(\"Entre com y:\"))\n",
    "\n",
    "soma = x + y\n",
    "subtracao = x - y\n",
    "multiplicacao = x * y\n",
    "divisao = x / y\n",
    "divisao_truncada = x // y \n",
    "exponenciacao = x ** y\n",
    "resto_divisao = x % y\n",
    "\n",
    "print(soma)\n",
    "print(subtracao)\n",
    "print(multiplicacao)\n",
    "print(divisao)\n",
    "print(divisao_truncada)\n",
    "print(exponenciacao)\n",
    "print(resto_divisao)"
   ]
  },
  {
   "cell_type": "markdown",
   "metadata": {},
   "source": [
    "## Estruturas de decisão e operadores de comparação e lógicos\n",
    "\n",
    "![Um pouco de humor](if_else.gif)\n",
    "\n",
    "Estruturas de decisão são recursos da linguagem que permitem ao programador fazer determinadas ações de acordo com um predicado. Elas têm a seguinte sintaxe:\n",
    "```python\n",
    "if condicao1:\n",
    "    comandos\n",
    "elif condicao2:\n",
    "    comandos\n",
    "elif condicao3:\n",
    "    comandos\n",
    "else:\n",
    "    comandos```\n",
    "    \n",
    "As condições devem ser coercíveis para `bool` para poderem ser executadas.\n",
    "\n",
    "**Atenção! No Python, é necessário que os blocos estejam propriamente indentados, ou o interpretador irá lançar um erro.**"
   ]
  },
  {
   "cell_type": "code",
   "execution_count": null,
   "metadata": {},
   "outputs": [],
   "source": [
    "if True:\n",
    "print(\"Verdadeiro\")\n",
    "else:\n",
    "print(\"Absurdo\")"
   ]
  },
  {
   "cell_type": "markdown",
   "metadata": {},
   "source": [
    "### Operadores de comparação\n",
    "\n",
    "Os operadores de comparação permitem verificar igualdades e desigualdades entre valores, sendo possível verificar se tal condição é verdadeira ou falsa. Dentre eles temos:\n",
    "```python\n",
    "igual = x == y\n",
    "diferente = x != y\n",
    "menor = x < y\n",
    "maior = x > y\n",
    "menor_igual = x <= y\n",
    "maior_igual = x >= y```"
   ]
  },
  {
   "cell_type": "markdown",
   "metadata": {},
   "source": [
    "### Operadores lógicos\n",
    "\n",
    "Os operadores lógicos são operadores que recebem `bools` como argumento e retornam um `bool`. Dentre eles podem destacar:\n",
    "```python\n",
    "e_logico = x and y\n",
    "ou_logico = x or y\n",
    "nao_logico = not x```"
   ]
  },
  {
   "cell_type": "markdown",
   "metadata": {},
   "source": [
    "Abaixo temos um exemplo onde verificamos "
   ]
  },
  {
   "cell_type": "code",
   "execution_count": null,
   "metadata": {},
   "outputs": [],
   "source": [
    "x = float(input(\"Entre com um valor:\"))\n",
    "y = float(input(\"Entre com outro valor:\"))\n",
    "\n",
    "if x > y:\n",
    "    print(x, \">\", y)\n",
    "elif x == y and x == 42:\n",
    "    print(\"A resposta para a vida, o universo e tudo mais\")\n",
    "elif x < 0 or y < 0:\n",
    "    print(\"Algum valor é negativo\")\n",
    "else:\n",
    "    print(\"Nenhum bloco acima foi executado\")"
   ]
  },
  {
   "cell_type": "markdown",
   "metadata": {},
   "source": [
    "Outra coisa interessante é a capacidade do Python de aninhar operadores de comparação:"
   ]
  },
  {
   "cell_type": "code",
   "execution_count": null,
   "metadata": {},
   "outputs": [],
   "source": [
    "x = float(input(\"Entre com um valor:\"))\n",
    "if 0 < x <= 10:\n",
    "    print(x, \"é maior que 0 e menor ou igual a 10\")\n",
    "elif -100 <= x <= 0:\n",
    "    print(x, \"está entre -100 e 0\")\n",
    "else:\n",
    "    print(x, \"é maior que 10 ou menor que -100\")"
   ]
  },
  {
   "cell_type": "markdown",
   "metadata": {},
   "source": [
    "## Listas\n",
    "\n",
    "No Python, podemos criar listas heterogêneas (isto é, listas podem conter qualquer tipo de variável). Por exemplo:"
   ]
  },
  {
   "cell_type": "code",
   "execution_count": null,
   "metadata": {},
   "outputs": [],
   "source": [
    "lista1 = [\"Multimídia\", 100, True]\n",
    "print(lista1)"
   ]
  },
  {
   "cell_type": "markdown",
   "metadata": {},
   "source": [
    "### Métodos e funções úteis para listas\n",
    "\n",
    "Para manipular listas, podemos destacar algumas funções e métodos úteis:"
   ]
  },
  {
   "cell_type": "code",
   "execution_count": null,
   "metadata": {},
   "outputs": [],
   "source": [
    "lista2 = [42, \"Python\", 3.14159, lista1]\n",
    "\n",
    "# Tamanho de uma lista:\n",
    "print(len(lista2))\n",
    "\n",
    "# Adicionar um novo elemento:\n",
    "lista2.append(1.88)\n",
    "print(lista2)\n",
    "\n",
    "# Acessando valores individuais:\n",
    "print(lista2[0]) # Pega o elemento na posição 0.\n",
    "print(lista2[-1]) # Pega o último elemento.\n",
    "print(lista2[-2]) # Pega o penúltimo elemento.\n",
    "print(lista2[2:4]) # Pega os elementos 2 e 3. Obs.: Primeiro valor incluso e último excluso.\n",
    "\n",
    "# Reverter lista:\n",
    "lista2.reverse()\n",
    "print(lista2)\n",
    "\n",
    "# Ordenação (para listas homogêneas):\n",
    "lista3 = [8, 4, 3, 10, -20]\n",
    "lista3.sort()\n",
    "print(lista3)\n",
    "lista3.sort(reverse=True)\n",
    "print(lista3)"
   ]
  },
  {
   "cell_type": "markdown",
   "metadata": {},
   "source": [
    "## Estruturas de repetição\n",
    "\n",
    "No Python, temos acesso a duas estruturas de repetição: `while` e `for`.\n",
    "\n",
    "### while\n",
    "\n",
    "Executa comandos dentro do bloco `while` enquanto a condição é verdadeira:"
   ]
  },
  {
   "cell_type": "code",
   "execution_count": null,
   "metadata": {},
   "outputs": [],
   "source": [
    "x = 512\n",
    "while x > 0:\n",
    "    print(\"x =\", x)\n",
    "    x //= 2 # o mesmo que x = x // 2"
   ]
  },
  {
   "cell_type": "markdown",
   "metadata": {},
   "source": [
    "### for\n",
    "\n",
    "Adicionamente, temos o `for`, que permite iterar por valores dentro de uma estrutura:"
   ]
  },
  {
   "cell_type": "code",
   "execution_count": null,
   "metadata": {},
   "outputs": [],
   "source": [
    "lista2 = [42, \"Python\", 3.14159]\n",
    "for valor in lista2:\n",
    "    print(valor)"
   ]
  },
  {
   "cell_type": "code",
   "execution_count": null,
   "metadata": {},
   "outputs": [],
   "source": [
    "print(\"[0, 5):\")\n",
    "for i in range(5):\n",
    "    print(i)\n",
    "    \n",
    "print(\"[2, 8):\")\n",
    "for j in range(2, 8):\n",
    "    print(j)\n",
    "    \n",
    "print(\"[4, 9) com passo 2:\")\n",
    "for k in range(4, 9, 2):\n",
    "    print(k)"
   ]
  },
  {
   "cell_type": "markdown",
   "metadata": {},
   "source": [
    "## Tuplas\n",
    "\n",
    "Tuplas funcionam como listas heterogêneas de tamanho fixo e imutáveis."
   ]
  },
  {
   "cell_type": "code",
   "execution_count": null,
   "metadata": {},
   "outputs": [],
   "source": [
    "louis = (\"Louis XIV\", \"França\")\n",
    "beethoven = (\"Beethoven\", \"Alemanha\")\n",
    "aristoteles = (\"Aristóteles\", \"Grécia\")\n",
    "\n",
    "# Acessando valores:\n",
    "print(louis[0])\n",
    "\n",
    "# Desconstrução de tuplas:\n",
    "(nome1, pais1) = aristoteles\n",
    "print(nome1, pais1)"
   ]
  },
  {
   "cell_type": "markdown",
   "metadata": {},
   "source": [
    "## Funções\n",
    "\n",
    "Funções fornecem uma forma de reutilizar código e deixar ele mais organizado. A sintaxe é como abaixo:\n",
    "```python\n",
    "def nome_funcao(argumento1, argumento2, argumento3=opcional1, argumento4=opcional2):\n",
    "    corpo_funcao\n",
    "    return valor # obs.: return não é obrigatório```\n",
    "\n",
    "Abaixo temos exemplos de funções:"
   ]
  },
  {
   "cell_type": "code",
   "execution_count": null,
   "metadata": {},
   "outputs": [],
   "source": [
    "# Função com retorno:\n",
    "def soma(x, y=5):\n",
    "    z = x + y\n",
    "    return z\n",
    "\n",
    "print(soma(1, 3))\n",
    "print(soma(3))"
   ]
  },
  {
   "cell_type": "code",
   "execution_count": null,
   "metadata": {},
   "outputs": [],
   "source": [
    "# Função sem retorno:\n",
    "def mostra_paridade(valores):\n",
    "    for valor in valores:\n",
    "        if valor % 2 == 0:\n",
    "            print(valor, \"é par\")\n",
    "        else:\n",
    "            print(valor, \"é ímpar\")\n",
    "            \n",
    "mostra_paridade(range(0, 10))"
   ]
  },
  {
   "cell_type": "markdown",
   "metadata": {},
   "source": [
    "## Funções anônimas\n",
    "\n",
    "Funções anônimas (também chamadas de `lambdas`) são funções que podem ser salvas em variáveis. Exemplo:"
   ]
  },
  {
   "cell_type": "code",
   "execution_count": null,
   "metadata": {},
   "outputs": [],
   "source": [
    "mostra_pessoa = lambda nome, idade: nome + \" tem \" + str(idade) + \" anos.\"\n",
    "\n",
    "print(mostra_pessoa(\"Napoleão\", 250))"
   ]
  },
  {
   "cell_type": "code",
   "execution_count": null,
   "metadata": {},
   "outputs": [],
   "source": [
    "pontos = [(2, 5), (-1, 0), (6, 3), (2, -3)]\n",
    "pontos_ordenados_em_x = sorted(pontos, key=lambda p: p[0])\n",
    "print(pontos_ordenados_em_x)"
   ]
  },
  {
   "cell_type": "markdown",
   "metadata": {},
   "source": [
    "## Arrays do NumPy\n",
    "Embora as listas do Python sejam úteis para o desenvolvimento no dia-a-dia, daremos preferência aos arrays do NumPy, por serem mais eficientes e oferecerem mais operações úteis relacionadas à manipulação de vetores e matrizes algébricas."
   ]
  },
  {
   "cell_type": "markdown",
   "metadata": {},
   "source": [
    "O primeiro passo é importar o NumPy:"
   ]
  },
  {
   "cell_type": "code",
   "execution_count": null,
   "metadata": {},
   "outputs": [],
   "source": [
    "import numpy as np\n",
    "# obs.: também poderíamos importar tudo do módulo:\n",
    "# from numpy import *"
   ]
  },
  {
   "cell_type": "markdown",
   "metadata": {},
   "source": [
    "### Vetores"
   ]
  },
  {
   "cell_type": "code",
   "execution_count": null,
   "metadata": {},
   "outputs": [],
   "source": [
    "# Criação de vetores:\n",
    "vetor = np.array([2, 3, 5, 7, 11])\n",
    "\n",
    "# Shape mostra as dimensões do array:\n",
    "print(vetor, vetor.shape)"
   ]
  },
  {
   "cell_type": "code",
   "execution_count": null,
   "metadata": {},
   "outputs": [],
   "source": [
    "# Também podemos especificar o tipo das variáveis dentro do array:\n",
    "vetor_float = np.array([1, 0.1, 0.01, 0.001])\n",
    "print(vetor_float, vetor_float.shape, vetor_float.dtype)\n",
    "\n",
    "vetor_int = np.array([1, 1, 2, 3, 5, 8], np.uint8)\n",
    "print(vetor_int, vetor_int.shape, vetor_int.dtype)\n",
    "\n",
    "# Para mais informações: https://docs.scipy.org/doc/numpy/reference/arrays.dtypes.html"
   ]
  },
  {
   "cell_type": "markdown",
   "metadata": {},
   "source": [
    "### Matrizes"
   ]
  },
  {
   "cell_type": "code",
   "execution_count": null,
   "metadata": {},
   "outputs": [],
   "source": [
    "# Criação de matrizes:\n",
    "matriz = np.array([[1, 2, 3],\n",
    "                   [4, 5, 6],\n",
    "                   [7, 8, 9]])\n",
    "\n",
    "print(matriz, matriz.shape)"
   ]
  },
  {
   "cell_type": "markdown",
   "metadata": {},
   "source": [
    "### Funções e operações relevantes"
   ]
  },
  {
   "cell_type": "markdown",
   "metadata": {},
   "source": [
    "#### Criação de arrays:"
   ]
  },
  {
   "cell_type": "code",
   "execution_count": null,
   "metadata": {},
   "outputs": [],
   "source": [
    "print('Array tamanho 2x4 preenchido com 1:')\n",
    "print(np.ones((2, 4)))\n",
    "\n",
    "print('Array tamanho 2x4x2 preenchido com 0:')\n",
    "print(np.zeros((2, 4, 2)))\n",
    "\n",
    "print('Array 3x4 com valores aleatórios em [0, 10):')\n",
    "np.random.seed(42)\n",
    "print(np.random.randint(10, size=(3, 4)))\n",
    "\n",
    "print('Array com valores em [0, 1) e passo 0.1:')\n",
    "print(np.arange(0, 1, 0.1))"
   ]
  },
  {
   "cell_type": "markdown",
   "metadata": {},
   "source": [
    "#### Transposta e concatenação:"
   ]
  },
  {
   "cell_type": "code",
   "execution_count": null,
   "metadata": {},
   "outputs": [],
   "source": [
    "matriz_2x3 = np.array([[0, 1], [2, 3], [4, 5]])\n",
    "print('Matriz 2x3:')\n",
    "print(matriz_2x3)\n",
    "\n",
    "print('Transposta:')\n",
    "print(matriz_2x3.T)\n",
    "\n",
    "matriz_2x2 = np.array([[6, 7], [8, 9]])\n",
    "print('Matriz 2x2:')\n",
    "print(matriz_2x2)\n",
    "\n",
    "matriz_3x3 = np.array([[6, 7, 8], [9, 10, 11], [12, 13, 14]])\n",
    "print('Matriz 3x3:')\n",
    "print(matriz_3x3)\n",
    "\n",
    "print('Concatenação vertical:')\n",
    "print(np.concatenate([matriz_2x3, matriz_2x2], axis=0))\n",
    "\n",
    "print('Concatenação horizontal:')\n",
    "print(np.concatenate([matriz_2x3, matriz_3x3], axis=1))"
   ]
  },
  {
   "cell_type": "markdown",
   "metadata": {},
   "source": [
    "#### Indexação:\n",
    "\n",
    "A indexação funciona da mesma forma que listas normais do Python:"
   ]
  },
  {
   "cell_type": "code",
   "execution_count": null,
   "metadata": {},
   "outputs": [],
   "source": [
    "# Elementos individuais:\n",
    "matriz_3x4 = np.array([[0,  1,  2],\n",
    "                       [3,  4,  5],\n",
    "                       [6,  7,  8],\n",
    "                       [9, 10, 11]])\n",
    "\n",
    "print(matriz_3x4[0]) # linha de índice 0\n",
    "print(matriz_3x4[2, 1]) # linha de índice 2 ([6, 7, 8]) e coluna de índice 1\n",
    "print(matriz_3x4[:, 1]) # todas as linhas e coluna de índice 1\n",
    "print(matriz_3x4[1:3, 1:]) # linhas [1, 3), todas as colunas a partir de 1"
   ]
  },
  {
   "cell_type": "markdown",
   "metadata": {},
   "source": [
    "#### Operações binárias:"
   ]
  },
  {
   "cell_type": "code",
   "execution_count": null,
   "metadata": {},
   "outputs": [],
   "source": [
    "print('Multiplicação com escalar:')\n",
    "print(np.ones((2, 3)) * 2)\n",
    "\n",
    "print('Soma com escalar:')\n",
    "print(np.zeros(6) + 3)\n",
    "\n",
    "print('Soma ponto-a-ponto:')\n",
    "print(np.ones((2, 2)) + 10 * np.ones((2, 2)))\n",
    "\n",
    "print('Multiplicação ponto-a-ponto:')\n",
    "print((2 * np.ones(4)) * (5 * np.ones(4)))\n",
    "\n",
    "print('Multiplicação matricial:')\n",
    "print(\n",
    "    np.matmul(\n",
    "        np.array([[1, 2],\n",
    "                  [3, 4]]),\n",
    "        np.array([[5, 6],\n",
    "                  [7, 8]])))\n",
    "\n",
    "print('Produto escalar:')\n",
    "print(np.dot(np.array([1, 2, 3]), np.array([-1, 0, 1])))"
   ]
  },
  {
   "cell_type": "markdown",
   "metadata": {},
   "source": [
    "# Exercícios"
   ]
  },
  {
   "cell_type": "markdown",
   "metadata": {},
   "source": [
    "1. Crie dois arrays 8x8x3, com valores aleatórios do tipo np.uint8 no intervalo de 0 a 10 (inclusive). Chame as variáveis de `a` e `b`."
   ]
  },
  {
   "cell_type": "code",
   "execution_count": null,
   "metadata": {},
   "outputs": [],
   "source": [
    "# Dica: https://docs.scipy.org/doc/numpy-1.15.1/reference/generated/numpy.random.randint.html"
   ]
  },
  {
   "cell_type": "markdown",
   "metadata": {},
   "source": [
    "2. Crie uma nova matriz `c`, cujos valores são as médias aritméticas dos valores (ponto-a-ponto) das matrizes criadas no exercício 1."
   ]
  },
  {
   "cell_type": "code",
   "execution_count": null,
   "metadata": {},
   "outputs": [],
   "source": []
  },
  {
   "cell_type": "markdown",
   "metadata": {},
   "source": [
    "3. Concatene as matrizes `a`, `b` e `c` horizontalmente, e depois guarde a subarray composta pelas linhas 1 a 7 (inclusive), colunas 0 a 3 (inclusive) e página 1."
   ]
  },
  {
   "cell_type": "code",
   "execution_count": null,
   "metadata": {},
   "outputs": [],
   "source": []
  },
  {
   "cell_type": "markdown",
   "metadata": {},
   "source": [
    "4. Multiplique a página 0 da matriz `a` com a página 1 da matriz `b`."
   ]
  },
  {
   "cell_type": "code",
   "execution_count": null,
   "metadata": {},
   "outputs": [],
   "source": []
  },
  {
   "cell_type": "markdown",
   "metadata": {},
   "source": [
    "5. Crie uma função que receba um array bidimensional e retorne uma tupla `(m, p)`, onde `m` é o maior valor e `p` é a posição `(x, y, z)` no array onde se encontra `m`. Faça uso do `while` ou do `for` vistos acima. Caso tenha mais de uma posição com valor máximo, utilize a posição mais antiga."
   ]
  },
  {
   "cell_type": "code",
   "execution_count": null,
   "metadata": {},
   "outputs": [],
   "source": [
    "# Dica: Infinito no numpy = np.inf"
   ]
  },
  {
   "cell_type": "markdown",
   "metadata": {},
   "source": [
    "6. Pesquise sobre as funções `max`, `unravel_index` e `argmax` do NumPy e refaça o exercício 4 sem utilizar estrutura de repetição."
   ]
  },
  {
   "cell_type": "code",
   "execution_count": null,
   "metadata": {},
   "outputs": [],
   "source": []
  }
 ],
 "metadata": {
  "kernelspec": {
   "display_name": "Python 3",
   "language": "python",
   "name": "python3"
  },
  "language_info": {
   "codemirror_mode": {
    "name": "ipython",
    "version": 3
   },
   "file_extension": ".py",
   "mimetype": "text/x-python",
   "name": "python",
   "nbconvert_exporter": "python",
   "pygments_lexer": "ipython3",
   "version": "3.6.7"
  }
 },
 "nbformat": 4,
 "nbformat_minor": 2
}
